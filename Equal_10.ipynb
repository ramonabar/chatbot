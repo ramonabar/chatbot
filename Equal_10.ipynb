{
 "cells": [
  {
   "cell_type": "code",
   "execution_count": 5,
   "metadata": {},
   "outputs": [
    {
     "name": "stdin",
     "output_type": "stream",
     "text": [
      "give a first number 1\n",
      "give a second nunmber 2\n"
     ]
    },
    {
     "name": "stdout",
     "output_type": "stream",
     "text": [
      "sum is less than 10\n"
     ]
    }
   ],
   "source": [
    "# Equal 10\n",
    "#! /usr/bin/env python3\n",
    "\n",
    "number1 = int(input(\"give a first number\"))\n",
    "number2 = int(input(\"give a second nunmber\"))\n",
    "sum = number1 + number2\n",
    "if sum > 10:\n",
    "    print(\"sum is bigger than 10\")\n",
    "elif sum < 10:\n",
    "    print(\"sum is less than 10\")\n",
    "else:\n",
    "    print(\"sum is 10\")\n",
    "\n",
    "\n",
    "\n",
    "\n"
   ]
  },
  {
   "cell_type": "code",
   "execution_count": null,
   "metadata": {},
   "outputs": [],
   "source": []
  }
 ],
 "metadata": {
  "kernelspec": {
   "display_name": "Python 3",
   "language": "python",
   "name": "python3"
  },
  "language_info": {
   "codemirror_mode": {
    "name": "ipython",
    "version": 3
   },
   "file_extension": ".py",
   "mimetype": "text/x-python",
   "name": "python",
   "nbconvert_exporter": "python",
   "pygments_lexer": "ipython3",
   "version": "3.8.2"
  }
 },
 "nbformat": 4,
 "nbformat_minor": 4
}
