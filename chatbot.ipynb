{
 "cells": [
  {
   "cell_type": "code",
   "execution_count": 1,
   "metadata": {},
   "outputs": [
    {
     "ename": "SyntaxError",
     "evalue": "invalid syntax (<ipython-input-1-c9e7612f1f85>, line 16)",
     "output_type": "error",
     "traceback": [
      "\u001b[0;36m  File \u001b[0;32m\"<ipython-input-1-c9e7612f1f85>\"\u001b[0;36m, line \u001b[0;32m16\u001b[0m\n\u001b[0;31m    if answer.upper()== \"YES\"\u001b[0m\n\u001b[0m                             ^\u001b[0m\n\u001b[0;31mSyntaxError\u001b[0m\u001b[0;31m:\u001b[0m invalid syntax\n"
     ]
    }
   ],
   "source": []
  },
  {
   "cell_type": "code",
   "execution_count": null,
   "metadata": {},
   "outputs": [],
   "source": []
  },
  {
   "cell_type": "code",
   "execution_count": null,
   "metadata": {},
   "outputs": [],
   "source": []
  },
  {
   "cell_type": "code",
   "execution_count": 2,
   "metadata": {},
   "outputs": [
    {
     "ename": "SyntaxError",
     "evalue": "invalid syntax (<ipython-input-2-723d26a6d70b>, line 23)",
     "output_type": "error",
     "traceback": [
      "\u001b[0;36m  File \u001b[0;32m\"<ipython-input-2-723d26a6d70b>\"\u001b[0;36m, line \u001b[0;32m23\u001b[0m\n\u001b[0;31m    else:\u001b[0m\n\u001b[0m    ^\u001b[0m\n\u001b[0;31mSyntaxError\u001b[0m\u001b[0;31m:\u001b[0m invalid syntax\n"
     ]
    }
   ],
   "source": [
    "positive_list = [\"good\", \"fine\", \"ok\", \"better\", \"yes\"]\n",
    "negative_list = [\"not so good\", \"sad\", \"tired\", \"no\"]\n",
    "undecided_list = [\"I don't know\", \"who can tell\", \"well\"]\n",
    "hobbies_list = [\"music\", \"sports\", \"movies\", \"history\"]\n",
    "\n",
    "answer = input(\"Hi, how are you doing today?\")\n",
    "if answer in positive_list:\n",
    "\tprint(\"Great!\")\n",
    "if answer in negative_list:\n",
    "\tprint(\"I'm sorry to hear that.\")\n",
    "if answer not in positive_list and answer not in negative_list:\n",
    "\tprint(\"OK, how can I help you?\")\n",
    "if answer in undecided_list:\n",
    "\tprint(\"Let's try to think positive!\")\n",
    "hobby = input(\"Do you have some hobbies?\")\n",
    "if answer in positive_list:\n",
    "\tprint(\"Very good!\")\n",
    "\tanswer_hobby = input(\"What is your hobby?\")\n",
    "\tif answer_hobby in hobbies_list:\n",
    "\t\tprint(\"Nice! I like\" + answer_hobby + \", too.\")\n",
    "if answer in negative_list:\n",
    "\tprint(\"Maybe now it's a good time to get one!\")\n",
    "\telse:\n",
    "\t\tprint(answer_hobby + \"it's a good hobby.\")\n",
    "answer_feel = input(\"How do you feel now?\")\n",
    "if answer_feel in positive_list:\n",
    "\tprint(\"Glad to hear that!\")\n",
    "if answer_feel in negative_list or answer_feel in undecided_list:\n",
    "\tprint(\"Reading helps me to feel better.\")\n",
    "read_answer = input(\"Would you like to read something interesting?\")\n",
    "if answer in positive_list:\n",
    "\timport bs4 \n",
    "\timport requests\n",
    "\n",
    "\tword=\"Fractal\"\n",
    "\tweb_page = requests.get(\"https://en.wikipedia.org/wiki/\"+ word)\n",
    "\n",
    "\tif web_page is not None: \n",
    "\t\t\n",
    "\t\thtml = bs4.BeautifulSoup(web_page.text, 'html.parser')\n",
    "\t\ttext_paragraphs = html.select(\"p\")\n",
    "\t\tdocument = '\\n'.join([ paragraph.text for paragraph in text_paragraphs[36:38]])\n",
    "\t\tprint (document)"
   ]
  },
  {
   "cell_type": "code",
   "execution_count": null,
   "metadata": {},
   "outputs": [
    {
     "name": "stdin",
     "output_type": "stream",
     "text": [
      "Hi, how are you doing today? fine\n"
     ]
    },
    {
     "name": "stdout",
     "output_type": "stream",
     "text": [
      "Great!\n"
     ]
    },
    {
     "name": "stdin",
     "output_type": "stream",
     "text": [
      "Do you have some hobbies? yes\n"
     ]
    },
    {
     "name": "stdout",
     "output_type": "stream",
     "text": [
      "Very good!\n"
     ]
    },
    {
     "name": "stdin",
     "output_type": "stream",
     "text": [
      "What is your hobby? dance\n"
     ]
    },
    {
     "name": "stdout",
     "output_type": "stream",
     "text": [
      "danceit's a good hobby.\n"
     ]
    }
   ],
   "source": [
    "positive_list = [\"good\", \"fine\", \"ok\", \"better\", \"yes\"]\n",
    "negative_list = [\"not so good\", \"sad\", \"tired\", \"no\"]\n",
    "undecided_list = [\"I don't know\", \"who can tell\", \"well\"]\n",
    "hobbies_list = [\"music\", \"sports\", \"movies\", \"history\"]\n",
    "\n",
    "answer = input(\"Hi, how are you doing today?\")\n",
    "if answer in positive_list:\n",
    "\tprint(\"Great!\")\n",
    "if answer in negative_list:\n",
    "\tprint(\"I'm sorry to hear that.\")\n",
    "if answer not in positive_list and answer not in negative_list:\n",
    "\tprint(\"OK, how can I help you?\")\n",
    "if answer in undecided_list:\n",
    "\tprint(\"Let's try to think positive!\")\n",
    "hobby = input(\"Do you have some hobbies?\")\n",
    "if answer in positive_list:\n",
    "\tprint(\"Very good!\")\n",
    "\tanswer_hobby = input(\"What is your hobby?\")\n",
    "\tif answer_hobby in hobbies_list:\n",
    "\t\tprint(\"Nice! I like\" + answer_hobby + \", too.\")\n",
    "if answer in negative_list:\n",
    "\tprint(\"Maybe now it's a good time to get one!\")\n",
    "else:\n",
    "    print(answer_hobby + \"it's a good hobby.\")\n",
    "answer_feel = input(\"How do you feel now?\")\n",
    "if answer_feel in positive_list:\n",
    "\tprint(\"Glad to hear that!\")\n",
    "if answer_feel in negative_list or answer_feel in undecided_list:\n",
    "\tprint(\"Reading helps me to feel better.\")\n",
    "read_answer = input(\"Would you like to read something interesting?\")\n",
    "if answer in positive_list:\n",
    "\timport bs4 \n",
    "\timport requests\n",
    "\n",
    "\tword=\"Fractal\"\n",
    "\tweb_page = requests.get(\"https://en.wikipedia.org/wiki/\"+ word)\n",
    "\n",
    "\tif web_page is not None: \n",
    "\t\t\n",
    "\t\thtml = bs4.BeautifulSoup(web_page.text, 'html.parser')\n",
    "\t\ttext_paragraphs = html.select(\"p\")\n",
    "\t\tdocument = '\\n'.join([ paragraph.text for paragraph in text_paragraphs[36:38]])\n",
    "\t\tprint (document)"
   ]
  },
  {
   "cell_type": "code",
   "execution_count": null,
   "metadata": {},
   "outputs": [],
   "source": [
    "positive_list = [\"good\", \"fine\", \"ok\", \"better\", \"yes\"]\n",
    "negative_list = [\"not so good\", \"sad\", \"tired\", \"no\"]\n",
    "undecided_list = [\"I don't know\", \"who can tell\", \"well\"]\n",
    "hobbies_list = [\"music\", \"sports\", \"movies\", \"history\"]\n",
    "\n",
    "answer = input(\"Hi, how are you doing today?\")\n",
    "if answer in positive_list:\n",
    "\tprint(\"Great!\")\n",
    "if answer in negative_list:\n",
    "\tprint(\"I'm sorry to hear that.\")\n",
    "if answer not in positive_list and answer not in negative_list:\n",
    "\tprint(\"OK, how can I help you?\")\n",
    "if answer in undecided_list:\n",
    "\tprint(\"Let's try to think positive!\")\n",
    "hobby = input(\"Do you have some hobbies?\")\n",
    "if answer in positive_list:\n",
    "\tprint(\"Very good!\")\n",
    "\tanswer_hobby = input(\"What is your hobby?\")\n",
    "\tif answer_hobby in hobbies_list:\n",
    "\t\tprint(\"Nice! I like\" + answer_hobby + \", too.\")\n",
    "if answer in negative_list:\n",
    "\tprint(\"Maybe now it's a good time to get one!\")\n",
    "else:\n",
    "    print(answer_hobby + \"\" + \"it's a good hobby.\")\n",
    "answer_feel = input(\"How do you feel now?\")\n",
    "if answer_feel in positive_list:\n",
    "\tprint(\"Glad to hear that!\")\n",
    "if answer_feel in negative_list or answer_feel in undecided_list:\n",
    "\tprint(\"Reading helps me to feel better.\")\n",
    "read_answer = input(\"Would you like to read something interesting?\")\n",
    "if answer in positive_list:\n",
    "\timport bs4 \n",
    "\timport requests\n",
    "\n",
    "\tword=\"Fractal\"\n",
    "\tweb_page = requests.get(\"https://en.wikipedia.org/wiki/\"+ word)\n",
    "\n",
    "\tif web_page is not None: \n",
    "\t\t\n",
    "\t\thtml = bs4.BeautifulSoup(web_page.text, 'html.parser')\n",
    "\t\ttext_paragraphs = html.select(\"p\")\n",
    "\t\tdocument = '\\n'.join([ paragraph.text for paragraph in text_paragraphs[36:38]])\n",
    "\t\tprint (document)"
   ]
  },
  {
   "cell_type": "code",
   "execution_count": null,
   "metadata": {},
   "outputs": [],
   "source": []
  },
  {
   "cell_type": "code",
   "execution_count": null,
   "metadata": {},
   "outputs": [],
   "source": [
    "positive_list = [\"good\", \"fine\", \"ok\", \"better\", \"yes\"]\n",
    "negative_list = [\"not so good\", \"sad\", \"tired\", \"no\"]\n",
    "undecided_list = [\"I don't know\", \"who can tell\", \"well\"]\n",
    "hobbies_list = [\"music\", \"sports\", \"movies\", \"history\"]\n",
    "\n",
    "answer = input(\"Hi, how are you doing today?\")\n",
    "if answer in positive_list:\n",
    "\tprint(\"Great!\")\n",
    "if answer in negative_list:\n",
    "\tprint(\"I'm sorry to hear that.\")\n",
    "if answer not in positive_list and answer not in negative_list:\n",
    "\tprint(\"OK, how can I help you?\")\n",
    "if answer in undecided_list:\n",
    "\tprint(\"Let's try to think positive!\")\n",
    "hobby = input(\"Do you have some hobbies?\")\n",
    "if answer in positive_list:\n",
    "\tprint(\"Very good!\")\n",
    "\tanswer_hobby = input(\"What is your hobby?\")\n",
    "\tif answer_hobby in hobbies_list:\n",
    "\t\tprint(\"Nice! I like\" + answer_hobby + \", too.\")\n",
    "if answer in negative_list:\n",
    "\tprint(\"Maybe now it's a good time to get one!\")\n",
    "else:\n",
    "    print(answer_hobby + \"\" + \"it's a good hobby.\")\n",
    "answer_feel = input(\"How do you feel now?\")\n",
    "if answer_feel in positive_list:\n",
    "\tprint(\"Glad to hear that!\")\n",
    "if answer_feel in negative_list or answer_feel in undecided_list:\n",
    "\tprint(\"Reading helps me to feel better.\")\n",
    "read_answer = input(\"Would you like to read something interesting?\")\n",
    "if answer in positive_list:\n",
    "\timport bs4 \n",
    "\timport requests\n",
    "\n",
    "\tword=\"Fractal\"\n",
    "\tweb_page = requests.get(\"https://en.wikipedia.org/wiki/\"+ word)\n",
    "\n",
    "\tif web_page is not None: \n",
    "\t\t\n",
    "\t\thtml = bs4.BeautifulSoup(web_page.text, 'html.parser')\n",
    "\t\ttext_paragraphs = html.select(\"p\")\n",
    "\t\tdocument = '\\n'.join([ paragraph.text for paragraph in text_paragraphs[36:38]])\n",
    "\t\tprint (document)"
   ]
  },
  {
   "cell_type": "code",
   "execution_count": null,
   "metadata": {},
   "outputs": [
    {
     "name": "stdin",
     "output_type": "stream",
     "text": [
      "Hi, how are you doing today? ok\n"
     ]
    },
    {
     "name": "stdout",
     "output_type": "stream",
     "text": [
      "Great!\n"
     ]
    },
    {
     "name": "stdin",
     "output_type": "stream",
     "text": [
      "Do you have some hobbies? yes\n"
     ]
    },
    {
     "name": "stdout",
     "output_type": "stream",
     "text": [
      "Very good!\n"
     ]
    },
    {
     "name": "stdin",
     "output_type": "stream",
     "text": [
      "What is your hobby? dancing\n"
     ]
    },
    {
     "name": "stdout",
     "output_type": "stream",
     "text": [
      "dancingit's a good hobby.\n"
     ]
    },
    {
     "name": "stdin",
     "output_type": "stream",
     "text": [
      "How do you feel now? better\n"
     ]
    },
    {
     "name": "stdout",
     "output_type": "stream",
     "text": [
      "Glad to hear that!\n"
     ]
    }
   ],
   "source": [
    "positive_list = [\"good\", \"fine\", \"ok\", \"better\", \"yes\"]\n",
    "negative_list = [\"not so good\", \"sad\", \"tired\", \"no\"]\n",
    "undecided_list = [\"I don't know\", \"who can tell\", \"well\"]\n",
    "hobbies_list = [\"music\", \"sports\", \"movies\", \"history\"]\n",
    "\n",
    "answer = input(\"Hi, how are you doing today?\")\n",
    "if answer in positive_list:\n",
    "\tprint(\"Great!\")\n",
    "if answer in negative_list:\n",
    "\tprint(\"I'm sorry to hear that.\")\n",
    "if answer not in positive_list and answer not in negative_list:\n",
    "\tprint(\"OK, how can I help you?\")\n",
    "if answer in undecided_list:\n",
    "\tprint(\"Let's try to think positive!\")\n",
    "hobby = input(\"Do you have some hobbies?\")\n",
    "if answer in positive_list:\n",
    "\tprint(\"Very good!\")\n",
    "\tanswer_hobby = input(\"What is your hobby?\")\n",
    "\tif answer_hobby in hobbies_list:\n",
    "\t\tprint(\"Nice! I like\" + answer_hobby + \", too.\")\n",
    "if answer in negative_list:\n",
    "\tprint(\"Maybe now it's a good time to get one!\")\n",
    "else:\n",
    "    print(answer_hobby + \"\" + \"it's a good hobby.\")\n",
    "answer_feel = input(\"How do you feel now?\")\n",
    "if answer_feel in positive_list:\n",
    "\tprint(\"Glad to hear that!\")\n",
    "if answer_feel in negative_list or answer_feel in undecided_list:\n",
    "\tprint(\"Reading helps me to feel better.\")\n",
    "read_answer = input(\"Would you like to read something interesting?\")\n",
    "if answer in positive_list:\n",
    "\timport bs4 \n",
    "\timport requests\n",
    "\n",
    "\tword=\"Fractal\"\n",
    "\tweb_page = requests.get(\"https://en.wikipedia.org/wiki/\"+ word)\n",
    "\n",
    "\tif web_page is not None: \n",
    "\t\t\n",
    "\t\thtml = bs4.BeautifulSoup(web_page.text, 'html.parser')\n",
    "\t\ttext_paragraphs = html.select(\"p\")\n",
    "\t\tdocument = '\\n'.join([ paragraph.text for paragraph in text_paragraphs[36:38]])\n",
    "\t\tprint (document)"
   ]
  },
  {
   "cell_type": "code",
   "execution_count": null,
   "metadata": {},
   "outputs": [],
   "source": []
  },
  {
   "cell_type": "code",
   "execution_count": null,
   "metadata": {},
   "outputs": [
    {
     "name": "stdin",
     "output_type": "stream",
     "text": [
      "Hi, how are you doing today? ok\n"
     ]
    },
    {
     "name": "stdout",
     "output_type": "stream",
     "text": [
      "Great!\n"
     ]
    },
    {
     "name": "stdin",
     "output_type": "stream",
     "text": [
      "Do you have some hobbies? yes\n"
     ]
    },
    {
     "name": "stdout",
     "output_type": "stream",
     "text": [
      "Very good!\n"
     ]
    },
    {
     "name": "stdin",
     "output_type": "stream",
     "text": [
      "What is your hobby? dancing\n"
     ]
    },
    {
     "name": "stdout",
     "output_type": "stream",
     "text": [
      "dancingit's a good hobby.\n"
     ]
    },
    {
     "name": "stdin",
     "output_type": "stream",
     "text": [
      "How do you feel now? better\n"
     ]
    },
    {
     "name": "stdout",
     "output_type": "stream",
     "text": [
      "Glad to hear that!\n"
     ]
    }
   ],
   "source": [
    "positive_list = [\"good\", \"fine\", \"ok\", \"better\", \"yes\"]\n",
    "negative_list = [\"not so good\", \"sad\", \"tired\", \"no\"]\n",
    "undecided_list = [\"I don't know\", \"who can tell\", \"well\"]\n",
    "hobbies_list = [\"music\", \"sports\", \"movies\", \"history\"]\n",
    "\n",
    "answer = input(\"Hi, how are you doing today?\")\n",
    "if answer in positive_list:\n",
    "\tprint(\"Great!\")\n",
    "if answer in negative_list:\n",
    "\tprint(\"I'm sorry to hear that.\")\n",
    "if answer not in positive_list and answer not in negative_list:\n",
    "\tprint(\"OK, how can I help you?\")\n",
    "if answer in undecided_list:\n",
    "\tprint(\"Let's try to think positive!\")\n",
    "hobby = input(\"Do you have some hobbies?\")\n",
    "if answer in positive_list:\n",
    "\tprint(\"Very good!\")\n",
    "\tanswer_hobby = input(\"What is your hobby?\")\n",
    "\tif answer_hobby in hobbies_list:\n",
    "\t\tprint(\"Nice! I like\" + answer_hobby + \", too.\")\n",
    "if answer in negative_list:\n",
    "\tprint(\"Maybe now it's a good time to get one!\")\n",
    "else:\n",
    "    print(answer_hobby + \"\" + \"it's a good hobby.\")\n",
    "answer_feel = input(\"How do you feel now?\")\n",
    "if answer_feel in positive_list:\n",
    "\tprint(\"Glad to hear that!\")\n",
    "if answer_feel in negative_list or answer_feel in undecided_list:\n",
    "\tprint(\"Reading helps me to feel better.\")\n",
    "read_answer = input(\"Would you like to read something interesting?\")\n",
    "if answer in positive_list:\n",
    "\timport bs4 \n",
    "\timport requests\n",
    "\n",
    "\tword=\"Fractal\"\n",
    "\tweb_page = requests.get(\"https://en.wikipedia.org/wiki/\"+ word)\n",
    "\n",
    "\tif web_page is not None: \n",
    "\t\t\n",
    "\t\thtml = bs4.BeautifulSoup(web_page.text, 'html.parser')\n",
    "\t\ttext_paragraphs = html.select(\"p\")\n",
    "\t\tdocument = '\\n'.join([ paragraph.text for paragraph in text_paragraphs[36:38]])\n",
    "\t\tprint (document)"
   ]
  }
 ],
 "metadata": {
  "kernelspec": {
   "display_name": "Python 3",
   "language": "python",
   "name": "python3"
  },
  "language_info": {
   "codemirror_mode": {
    "name": "ipython",
    "version": 3
   },
   "file_extension": ".py",
   "mimetype": "text/x-python",
   "name": "python",
   "nbconvert_exporter": "python",
   "pygments_lexer": "ipython3",
   "version": "3.8.2"
  }
 },
 "nbformat": 4,
 "nbformat_minor": 4
}
