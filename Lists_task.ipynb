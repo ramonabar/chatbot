{
 "cells": [
  {
   "cell_type": "code",
   "execution_count": 1,
   "metadata": {},
   "outputs": [
    {
     "name": "stdin",
     "output_type": "stream",
     "text": [
      " What is your favourite sport? mm\n"
     ]
    },
    {
     "name": "stdout",
     "output_type": "stream",
     "text": [
      "Yes, that is a great sport\n"
     ]
    }
   ],
   "source": [
    "#Task3\n",
    "#Use Python lists to code a program that does the following :\n",
    "\n",
    "#ask a user what is her/his favourite sport.\n",
    "#If a user types football, volleyball, basketball, baseball or Tennis, reply: \"Great, I like all ball games!\"\n",
    "#If a user types Running, Swimming or cycling, reply : \"Great, I like all solo sports\"\n",
    "#if user types anything elsi, reply: \"Yes, that is a great sport\"\n",
    "\n",
    "ball_sports = [\"football\", \"volleyball\", \"basketball\", \"baseball\", \"tennis\"]\n",
    "solo_sports = [\"running\", \"swimming\", \"cycling\"]\n",
    "\n",
    "user_answer = input(\" What is your favourite sport?\")\n",
    "if user_answer in ball_sports:\n",
    "    print(\"Great, I like all ball games!\")\n",
    "if user_answer in solo_sports:\n",
    "    print(\"Great, I like all solo sports\")\n",
    "if user_answer not in ball_sports and user_answer not in solo_sports:\n",
    "    print(\"Yes, that is a great sport\")"
   ]
  },
  {
   "cell_type": "code",
   "execution_count": 3,
   "metadata": {},
   "outputs": [
    {
     "name": "stdin",
     "output_type": "stream",
     "text": [
      " What is your favourite sport? football\n"
     ]
    },
    {
     "name": "stdout",
     "output_type": "stream",
     "text": [
      "Great, I like all ball games!\n"
     ]
    }
   ],
   "source": [
    "ball_sports = [\"football\", \"volleyball\", \"basketball\", \"baseball\", \"tennis\"]\n",
    "solo_sports = [\"running\", \"swimming\", \"cycling\"]\n",
    "\n",
    "user_answer = input(\" What is your favourite sport?\")\n",
    "if user_answer in ball_sports:\n",
    "    print(\"Great, I like all ball games!\")\n",
    "elif user_answer in solo_sports:\n",
    "    print(\"Great, I like all solo sports\")\n",
    "else:\n",
    "    print(\"Yes, that is a great sport\")"
   ]
  },
  {
   "cell_type": "code",
   "execution_count": null,
   "metadata": {},
   "outputs": [],
   "source": []
  }
 ],
 "metadata": {
  "kernelspec": {
   "display_name": "Python 3",
   "language": "python",
   "name": "python3"
  },
  "language_info": {
   "codemirror_mode": {
    "name": "ipython",
    "version": 3
   },
   "file_extension": ".py",
   "mimetype": "text/x-python",
   "name": "python",
   "nbconvert_exporter": "python",
   "pygments_lexer": "ipython3",
   "version": "3.8.2"
  }
 },
 "nbformat": 4,
 "nbformat_minor": 4
}
