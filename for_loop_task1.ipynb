{
 "cells": [
  {
   "cell_type": "code",
   "execution_count": 44,
   "metadata": {},
   "outputs": [
    {
     "name": "stdin",
     "output_type": "stream",
     "text": [
      "Heads or tales? heads\n",
      "Heads or tales? heads\n",
      "Heads or tales? tales\n",
      "Heads or tales? heads\n",
      "Heads or tales? tales\n"
     ]
    },
    {
     "name": "stdout",
     "output_type": "stream",
     "text": [
      "heads\n",
      "heads\n",
      "tales\n",
      "heads\n",
      "tales\n",
      "heads\n",
      "heads\n",
      "heads\n"
     ]
    },
    {
     "ename": "NameError",
     "evalue": "name 'user_answer' is not defined",
     "output_type": "error",
     "traceback": [
      "\u001b[0;31m---------------------------------------------------------------------------\u001b[0m",
      "\u001b[0;31mNameError\u001b[0m                                 Traceback (most recent call last)",
      "\u001b[0;32m<ipython-input-44-b38f9983c344>\u001b[0m in \u001b[0;36m<module>\u001b[0;34m\u001b[0m\n\u001b[1;32m     28\u001b[0m     \u001b[0;32mif\u001b[0m \u001b[0;34m\"tale\"\u001b[0m \u001b[0;32min\u001b[0m \u001b[0muser_answer\u001b[0m\u001b[0;34m:\u001b[0m\u001b[0;34m\u001b[0m\u001b[0;34m\u001b[0m\u001b[0m\n\u001b[1;32m     29\u001b[0m         \u001b[0mprint\u001b[0m\u001b[0;34m(\u001b[0m\u001b[0;34m\"tales\"\u001b[0m\u001b[0;34m)\u001b[0m\u001b[0;34m\u001b[0m\u001b[0;34m\u001b[0m\u001b[0m\n\u001b[0;32m---> 30\u001b[0;31m \u001b[0monly_tales\u001b[0m\u001b[0;34m(\u001b[0m\u001b[0;34m)\u001b[0m\u001b[0;34m\u001b[0m\u001b[0;34m\u001b[0m\u001b[0m\n\u001b[0m",
      "\u001b[0;32m<ipython-input-44-b38f9983c344>\u001b[0m in \u001b[0;36monly_tales\u001b[0;34m()\u001b[0m\n\u001b[1;32m     26\u001b[0m \u001b[0;34m\u001b[0m\u001b[0m\n\u001b[1;32m     27\u001b[0m \u001b[0;32mdef\u001b[0m \u001b[0monly_tales\u001b[0m\u001b[0;34m(\u001b[0m\u001b[0;34m)\u001b[0m\u001b[0;34m:\u001b[0m\u001b[0;34m\u001b[0m\u001b[0;34m\u001b[0m\u001b[0m\n\u001b[0;32m---> 28\u001b[0;31m     \u001b[0;32mif\u001b[0m \u001b[0;34m\"tale\"\u001b[0m \u001b[0;32min\u001b[0m \u001b[0muser_answer\u001b[0m\u001b[0;34m:\u001b[0m\u001b[0;34m\u001b[0m\u001b[0;34m\u001b[0m\u001b[0m\n\u001b[0m\u001b[1;32m     29\u001b[0m         \u001b[0mprint\u001b[0m\u001b[0;34m(\u001b[0m\u001b[0;34m\"tales\"\u001b[0m\u001b[0;34m)\u001b[0m\u001b[0;34m\u001b[0m\u001b[0;34m\u001b[0m\u001b[0m\n\u001b[1;32m     30\u001b[0m \u001b[0monly_tales\u001b[0m\u001b[0;34m(\u001b[0m\u001b[0;34m)\u001b[0m\u001b[0;34m\u001b[0m\u001b[0;34m\u001b[0m\u001b[0m\n",
      "\u001b[0;31mNameError\u001b[0m: name 'user_answer' is not defined"
     ]
    }
   ],
   "source": [
    "answer1 = input(\"Heads or tales?\")\n",
    "answer2 = input(\"Heads or tales?\")\n",
    "answer3 = input(\"Heads or tales?\")\n",
    "answer4 = input(\"Heads or tales?\")\n",
    "answer5 = input(\"Heads or tales?\")\n",
    "user_answers = (answer1, answer2, answer3, answer4, answer5)\n",
    "\n",
    "def answers():\n",
    "    for x in user_answers:\n",
    "        print(x)\n",
    "answers()\n",
    "  \n",
    "\n",
    "def first():\n",
    "    print(user_answers[0])\n",
    "first()\n",
    "                   \n",
    "\n",
    "def second():\n",
    "    print(user_answers[1])\n",
    "second()\n",
    "                       \n",
    "def fourth():\n",
    "    print(user_answers[3])\n",
    "fourth()\n",
    "    \n",
    "def only_tales():\n",
    "    for x in user_answers:\n",
    "        if x == \"heads\":\n",
    "            continue\n",
    "            \n",
    "   \n",
    "        print(\"tales\")\n",
    "only_tales()"
   ]
  },
  {
   "cell_type": "code",
   "execution_count": null,
   "metadata": {},
   "outputs": [],
   "source": []
  }
 ],
 "metadata": {
  "kernelspec": {
   "display_name": "Python 3",
   "language": "python",
   "name": "python3"
  },
  "language_info": {
   "codemirror_mode": {
    "name": "ipython",
    "version": 3
   },
   "file_extension": ".py",
   "mimetype": "text/x-python",
   "name": "python",
   "nbconvert_exporter": "python",
   "pygments_lexer": "ipython3",
   "version": "3.8.2"
  }
 },
 "nbformat": 4,
 "nbformat_minor": 4
}
