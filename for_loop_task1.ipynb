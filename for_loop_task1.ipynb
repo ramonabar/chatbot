{
 "cells": [
  {
   "cell_type": "code",
   "execution_count": 1,
   "metadata": {},
   "outputs": [
    {
     "name": "stdin",
     "output_type": "stream",
     "text": [
      "Heads or tales? heads\n",
      "Heads or tales? tales\n",
      "Heads or tales? tales\n",
      "Heads or tales? tales\n",
      "Heads or tales? heads\n"
     ]
    },
    {
     "name": "stdout",
     "output_type": "stream",
     "text": [
      "heads\n",
      "tales\n",
      "tales\n",
      "tales\n",
      "heads\n",
      "heads\n",
      "tales\n",
      "tales\n",
      "tales\n",
      "tales\n",
      "tales\n"
     ]
    }
   ],
   "source": [
    "answer1 = input(\"Heads or tales?\")\n",
    "answer2 = input(\"Heads or tales?\")\n",
    "answer3 = input(\"Heads or tales?\")\n",
    "answer4 = input(\"Heads or tales?\")\n",
    "answer5 = input(\"Heads or tales?\")\n",
    "user_answers = (answer1, answer2, answer3, answer4, answer5)\n",
    "\n",
    "def answers():\n",
    "    for x in user_answers:\n",
    "        print(x)\n",
    "answers()\n",
    "  \n",
    "\n",
    "def first():\n",
    "    print(user_answers[0])\n",
    "first()\n",
    "                   \n",
    "\n",
    "def second():\n",
    "    print(user_answers[1])\n",
    "second()\n",
    "                       \n",
    "def fourth():\n",
    "    print(user_answers[3])\n",
    "fourth()\n",
    "    \n",
    "def only_tales():\n",
    "    for x in user_answers:\n",
    "        if x == \"heads\":\n",
    "            continue\n",
    "            \n",
    "   \n",
    "        print(\"tales\")\n",
    "only_tales()"
   ]
  },
  {
   "cell_type": "code",
   "execution_count": null,
   "metadata": {},
   "outputs": [],
   "source": []
  }
 ],
 "metadata": {
  "kernelspec": {
   "display_name": "Python 3",
   "language": "python",
   "name": "python3"
  },
  "language_info": {
   "codemirror_mode": {
    "name": "ipython",
    "version": 3
   },
   "file_extension": ".py",
   "mimetype": "text/x-python",
   "name": "python",
   "nbconvert_exporter": "python",
   "pygments_lexer": "ipython3",
   "version": "3.8.2"
  }
 },
 "nbformat": 4,
 "nbformat_minor": 4
}
