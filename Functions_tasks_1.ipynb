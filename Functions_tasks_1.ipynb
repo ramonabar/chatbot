{
 "cells": [
  {
   "cell_type": "code",
   "execution_count": 8,
   "metadata": {},
   "outputs": [
    {
     "name": "stdin",
     "output_type": "stream",
     "text": [
      "Welcome, what is your name? dd\n"
     ]
    },
    {
     "name": "stdout",
     "output_type": "stream",
     "text": [
      "Hello dd\n"
     ]
    },
    {
     "name": "stdin",
     "output_type": "stream",
     "text": [
      "Do you want to hear pop, rock, classical or neo-classical? pop\n"
     ]
    },
    {
     "name": "stdout",
     "output_type": "stream",
     "text": [
      "Pop is very popular.\n"
     ]
    },
    {
     "name": "stdin",
     "output_type": "stream",
     "text": [
      "Do you want to know about neo-classical? no\n",
      "Do you want to change topic or quit? change topic\n"
     ]
    }
   ],
   "source": [
    "def welcome():\n",
    "    name = input(\"Welcome, what is your name?\")\n",
    "    print(\"Hello\", name)\n",
    "    ask_topic()\n",
    "    \n",
    "def ask_topic():\n",
    "    topic = input(\"Do you want to hear pop, rock, classical or neo-classical?\")\n",
    "    if topic == \"pop\":\n",
    "        pop()\n",
    "    if topic == \"rock\":\n",
    "        rock()\n",
    "    if topic == \"classical\":\n",
    "        classical()\n",
    "    if topic == \"neo-classical\":\n",
    "        neo_classical()\n",
    "        \n",
    "def pop():\n",
    "    print(\"Pop is very popular.\")\n",
    "    neo = input(\"Do you want to know about neo-classical?\")\n",
    "    if neo == \"yes\":\n",
    "        neo_classical()\n",
    "    if neo == \"no\":\n",
    "        choice = input(\"Do you want to change topic or quit?\")\n",
    "        if choice == \"chage topic\":\n",
    "            ask_topic()\n",
    "        if choice == \"quit\":\n",
    "            quit()\n",
    "            \n",
    "def rock():\n",
    "    print(\"Rock for ever!\")\n",
    "    neo = input(\"Do you want to know about neo-classical?\")\n",
    "    if neo == \"yes\":\n",
    "        neo_classical()\n",
    "    if neo == \"no\":\n",
    "        choice = input(\"Do you want to change topic or quit?\")\n",
    "        if choice == \"chage topic\":\n",
    "            ask_topic()\n",
    "        if choice == \"quit\":\n",
    "            quit()          \n",
    "        \n",
    "def classical():\n",
    "    print(\"Classical is so good that it will always be enjoyed by future generations.\")\n",
    "    choice = input(\"Do you want to change topic or quit?\")\n",
    "    if choice == \"chage topic\":\n",
    "        ask_topic()\n",
    "    if choice == \"quit\":\n",
    "        quit()  \n",
    "            \n",
    "def neo_classical():\n",
    "    print(\"Neo-classical is a return to aestethic percepts as balance, clarity, economy, and emotional restraint.\")\n",
    "    classic = input(\"Do you want to know about classical music?\")\n",
    "    if classic == \"yes\":\n",
    "        classical()\n",
    "    if classic == \"no\":\n",
    "        choice = input(\"Do you want to change topic or quit?\")\n",
    "        if choice == \"chage topic\":\n",
    "            ask_topic()\n",
    "        if choice == \"quit\":\n",
    "            quit()\n",
    "            \n",
    "def ask_topic():\n",
    "    topic = input(\"Do you want to hear pop, rock, classical or neo-classical?\")\n",
    "    if topic == \"pop\":\n",
    "        pop()\n",
    "    if topic == \"rock\":\n",
    "        rock()\n",
    "    if topic == \"classical\":\n",
    "        classical()\n",
    "    if topic == \"neo-classical\":\n",
    "        neo_classical()\n",
    "            \n",
    "\n",
    "def quit():\n",
    "    print(\"Goodbye, see you soon!\")\n",
    "            \n",
    "welcome()"
   ]
  },
  {
   "cell_type": "code",
   "execution_count": null,
   "metadata": {},
   "outputs": [],
   "source": []
  }
 ],
 "metadata": {
  "kernelspec": {
   "display_name": "Python 3",
   "language": "python",
   "name": "python3"
  },
  "language_info": {
   "codemirror_mode": {
    "name": "ipython",
    "version": 3
   },
   "file_extension": ".py",
   "mimetype": "text/x-python",
   "name": "python",
   "nbconvert_exporter": "python",
   "pygments_lexer": "ipython3",
   "version": "3.8.2"
  }
 },
 "nbformat": 4,
 "nbformat_minor": 4
}
