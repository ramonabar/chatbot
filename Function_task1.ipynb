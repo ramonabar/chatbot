{
 "cells": [
  {
   "cell_type": "code",
   "execution_count": null,
   "metadata": {},
   "outputs": [],
   "source": []
  },
  {
   "cell_type": "code",
   "execution_count": null,
   "metadata": {},
   "outputs": [],
   "source": [
    "def welcome():\n",
    "    name = input(\"Welcome, what is your name?\")\n",
    "    print(\"Hello\", name)\n",
    "    ask_topic()\n",
    "    \n",
    "def ask_topic():\n",
    "    topic = input(\"Do you want to hear pop, rock, classical or neo-classical?\")\n",
    "    if topic == \"pop\":\n",
    "        pop()\n",
    "    if topic == \"rock\":\n",
    "        rock()\n",
    "    if topic == \"classical\":\n",
    "        classical()\n",
    "    if topic == \"neo-classical\":\n",
    "        neo-calssical()\n",
    "        \n",
    "def pop():\n",
    "    print(\"Pop is very popular.\")\n",
    "    neo = input(\"Do you want to know about neo-classical?\")\n",
    "    \n",
    "welcome()"
   ]
  },
  {
   "cell_type": "code",
   "execution_count": null,
   "metadata": {},
   "outputs": [],
   "source": []
  },
  {
   "cell_type": "code",
   "execution_count": null,
   "metadata": {},
   "outputs": [],
   "source": []
  }
 ],
 "metadata": {
  "kernelspec": {
   "display_name": "Python 3",
   "language": "python",
   "name": "python3"
  },
  "language_info": {
   "codemirror_mode": {
    "name": "ipython",
    "version": 3
   },
   "file_extension": ".py",
   "mimetype": "text/x-python",
   "name": "python",
   "nbconvert_exporter": "python",
   "pygments_lexer": "ipython3",
   "version": "3.8.2"
  }
 },
 "nbformat": 4,
 "nbformat_minor": 4
}
