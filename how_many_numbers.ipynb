{
 "cells": [
  {
   "cell_type": "code",
   "execution_count": 13,
   "metadata": {},
   "outputs": [
    {
     "name": "stdin",
     "output_type": "stream",
     "text": [
      "how many numbers do you want to sum? 3\n",
      "give a number 4\n",
      "give a number 5\n",
      "give a number 6\n"
     ]
    },
    {
     "name": "stdout",
     "output_type": "stream",
     "text": [
      "15\n",
      "sum is bigger than 5\n"
     ]
    }
   ],
   "source": [
    "\n",
    "# exercice normal: easy + change program so that first you ask how many numbers you want to sum,\n",
    "# then what is the number that you want to compere against, after that ask as many numbers that user has specified.\n",
    "\n",
    "many_numbers = int(input(\"how many numbers do you want to sum?\"))\n",
    "sum = 0\n",
    "\n",
    "for x in range(many_numbers):\n",
    "    sum = sum + int(input(\"give a number\"))\n",
    "\n",
    "print(sum)\n",
    "\n",
    "\n",
    "if sum > 5:\n",
    "    print(\"sum is bigger than 5\")\n",
    "elif sum < 5:\n",
    "    print(\"sum is less than 5\")\n",
    "else:\n",
    "    print(\"sum is 5\")\n",
    "\n",
    "\n",
    "\n",
    "\n",
    "\n",
    "\n",
    "\n",
    "\n",
    "\n",
    "\n",
    "\n"
   ]
  },
  {
   "cell_type": "code",
   "execution_count": null,
   "metadata": {},
   "outputs": [],
   "source": []
  }
 ],
 "metadata": {
  "kernelspec": {
   "display_name": "Python 3",
   "language": "python",
   "name": "python3"
  },
  "language_info": {
   "codemirror_mode": {
    "name": "ipython",
    "version": 3
   },
   "file_extension": ".py",
   "mimetype": "text/x-python",
   "name": "python",
   "nbconvert_exporter": "python",
   "pygments_lexer": "ipython3",
   "version": "3.8.2"
  }
 },
 "nbformat": 4,
 "nbformat_minor": 4
}
