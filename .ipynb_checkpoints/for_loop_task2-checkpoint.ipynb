{
 "cells": [
  {
   "cell_type": "raw",
   "metadata": {},
   "source": [
    "#TASK 2 :\n",
    "# Create another 3 functions that :\n",
    "\n",
    "# Function 1 : uses input() to ask a user \"heads or tales\" and adds the answer \n",
    "# to \"user_answers\"-list\n",
    "\n",
    "\n",
    "user_answers = []\n",
    "\n",
    "def func1():\n",
    "    for x in range(6): \n",
    "        user_answers.append(input(\"Heads or tales?\"))\n",
    "        print(user_answers)\n",
    "        \n",
    "func1()\n",
    "\n",
    "# Function 2 : uses function 1 and prints the number of items in \"user_answers\"-list to the screen\n",
    "\n",
    "def func2(user_answers):\n",
    "    print(len(user_answers))\n",
    "    \n",
    "func2(user_answers)\n",
    "                   \n",
    "\n",
    "\n",
    "# Function 3 : uses input() to ask a user \"heads or tales\" and an integer: \"index\". \n",
    "# Adds the user_answer to \"user_answers\"-list in to a position \"index\".\n",
    "\n",
    "\n",
    "\n",
    "\n"
   ]
  },
  {
   "cell_type": "code",
   "execution_count": null,
   "metadata": {},
   "outputs": [],
   "source": []
  }
 ],
 "metadata": {
  "kernelspec": {
   "display_name": "Python 3",
   "language": "python",
   "name": "python3"
  },
  "language_info": {
   "codemirror_mode": {
    "name": "ipython",
    "version": 3
   },
   "file_extension": ".py",
   "mimetype": "text/x-python",
   "name": "python",
   "nbconvert_exporter": "python",
   "pygments_lexer": "ipython3",
   "version": "3.8.2"
  }
 },
 "nbformat": 4,
 "nbformat_minor": 4
}
