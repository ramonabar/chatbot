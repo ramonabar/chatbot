{
 "cells": [
  {
   "cell_type": "code",
   "execution_count": null,
   "metadata": {},
   "outputs": [],
   "source": [
    "# exercise hard: normal + change program so that if user gives something else than integer,\n",
    "# it tells that it is not valid integer and ask number again. You need things that you maybe don't know yet(try & while)\n",
    "\n",
    "# https://www.w3schools.com/python/python_while_loops.asp\n",
    "# https://www.w3schools.com/python/python_try_except.asp\n",
    "\n",
    "\n",
    "\n",
    "many_numbers = int(input(\"how many numbers do you want to sum?\"))\n",
    "sum = 0\n",
    "\n",
    "for x in range(many_numbers):\n",
    "    sum = sum + int(input(\"give a number\"))\n",
    "\n",
    "print(sum)\n",
    "\n",
    "if sum > 5:\n",
    "    print(\"sum is bigger than 5\")\n",
    "elif sum < 5:\n",
    "    print(\"sum is less than 5\")\n",
    "else:\n",
    "    print(\"sum is 5\")\n",
    "\n",
    "\n",
    "\n",
    "\n",
    "\n",
    "\n",
    "\n",
    "\n",
    "\n"
   ]
  }
 ],
 "metadata": {
  "kernelspec": {
   "display_name": "Python 3",
   "language": "python",
   "name": "python3"
  },
  "language_info": {
   "codemirror_mode": {
    "name": "ipython",
    "version": 3
   },
   "file_extension": ".py",
   "mimetype": "text/x-python",
   "name": "python",
   "nbconvert_exporter": "python",
   "pygments_lexer": "ipython3",
   "version": "3.8.2"
  }
 },
 "nbformat": 4,
 "nbformat_minor": 4
}
