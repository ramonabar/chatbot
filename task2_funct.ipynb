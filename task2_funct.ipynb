{
 "cells": [
  {
   "cell_type": "code",
   "execution_count": 12,
   "metadata": {},
   "outputs": [
    {
     "name": "stdin",
     "output_type": "stream",
     "text": [
      "Heads or tales? tales\n",
      "Which position? 0\n"
     ]
    },
    {
     "name": "stdout",
     "output_type": "stream",
     "text": [
      "['tales']\n"
     ]
    }
   ],
   "source": [
    "#TASK 2 :\n",
    "# Create another 3 functions that :\n",
    "\n",
    "# Function 1 : uses input() to ask a user \"heads or tales\" and adds the answer \n",
    "# to \"user_answers\"-list\n",
    "\n",
    "\n",
    "user_answers = []\n",
    "\n",
    "def func1():\n",
    "    ua = input(\"Heads or tales?\")\n",
    "    user_answers.append(ua)\n",
    "    print(len(user_answers))\n",
    "  \n",
    "    \n",
    "\n",
    "# Function 2 : uses function 1 and prints the number of items in \"user_answers\"-list to the screen\n",
    "\n",
    "def func2(ua):\n",
    "    print(len(user_answers))\n",
    "    \n",
    "\n",
    "                   \n",
    "\n",
    "\n",
    "# Function 3 : uses input() to ask a user \"heads or tales\" and an integer: \"index\". \n",
    "# Adds the user_answer to \"user_answers\"-list in to a position \"index\".\n",
    "\n",
    "def func3():\n",
    "    ua = input(\"Heads or tales?\")\n",
    "    position = int(input(\"Which position?\"))\n",
    "    user_answers.insert(position, ua)\n",
    "    print(user_answers)\n",
    "  \n",
    "    \n",
    "    \n",
    "    \n",
    "    \n",
    "func3()\n",
    "\n",
    "\n"
   ]
  },
  {
   "cell_type": "code",
   "execution_count": null,
   "metadata": {},
   "outputs": [],
   "source": []
  }
 ],
 "metadata": {
  "kernelspec": {
   "display_name": "Python 3",
   "language": "python",
   "name": "python3"
  },
  "language_info": {
   "codemirror_mode": {
    "name": "ipython",
    "version": 3
   },
   "file_extension": ".py",
   "mimetype": "text/x-python",
   "name": "python",
   "nbconvert_exporter": "python",
   "pygments_lexer": "ipython3",
   "version": "3.8.2"
  }
 },
 "nbformat": 4,
 "nbformat_minor": 4
}
